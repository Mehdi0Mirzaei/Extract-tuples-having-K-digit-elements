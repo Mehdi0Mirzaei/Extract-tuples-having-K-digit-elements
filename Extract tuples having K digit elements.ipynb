{
 "cells": [
  {
   "cell_type": "code",
   "execution_count": 1,
   "id": "d3211cb2",
   "metadata": {},
   "outputs": [
    {
     "name": "stdout",
     "output_type": "stream",
     "text": [
      "The original list is : [(54, 2), (34, 55), (222, 23), (12, 45), (78,)]\n",
      "The Extracted tuples : [(34, 55), (12, 45), (78,)]\n"
     ]
    }
   ],
   "source": [
    "# initializing list\n",
    "test_list = [(54, 2), (34, 55), (222, 23), (12, 45), (78, )]\n",
    " \n",
    "# printing original list\n",
    "print(\"The original list is : \" + str(test_list))\n",
    " \n",
    "# initializing K\n",
    "K = 2\n",
    " \n",
    "# using len() and str() to check length and \n",
    "# perform string conversion\n",
    "res = [sub for sub in test_list if all(len(str(ele)) == K for ele in sub)]\n",
    " \n",
    "# printing result\n",
    "print(\"The Extracted tuples : \" + str(res))"
   ]
  },
  {
   "cell_type": "code",
   "execution_count": 2,
   "id": "86cb4e78",
   "metadata": {},
   "outputs": [
    {
     "name": "stdout",
     "output_type": "stream",
     "text": [
      "The original list is : [(54, 2), (34, 55), (222, 23), (12, 45), (78,)]\n",
      "The Extracted tuples : [(34, 55), (12, 45), (78,)]\n"
     ]
    }
   ],
   "source": [
    "# initializing list\n",
    "test_list = [(54, 2), (34, 55), (222, 23), (12, 45), (78, )]\n",
    " \n",
    "# printing original list\n",
    "print(\"The original list is : \" + str(test_list))\n",
    " \n",
    "# initializing K\n",
    "K = 2\n",
    " \n",
    "# filter() and lambda used for task of filtering\n",
    "res = list(filter(lambda sub: all(len(str(ele)) == K for ele in sub), test_list))\n",
    " \n",
    "# printing result\n",
    "print(\"The Extracted tuples : \" + str(res))"
   ]
  },
  {
   "cell_type": "code",
   "execution_count": 3,
   "id": "9696c21b",
   "metadata": {},
   "outputs": [
    {
     "name": "stdout",
     "output_type": "stream",
     "text": [
      "The original list is : [(54, 2), (34, 55), (222, 23), (12, 45), (78,)]\n",
      "The Extracted tuples : [(34, 55), (12, 45), (78,)]\n"
     ]
    }
   ],
   "source": [
    "# initializing list\n",
    "test_list = [(54, 2), (34, 55), (222, 23), (12, 45), (78, )]\n",
    " \n",
    "# printing original list\n",
    "print(\"The original list is : \" + str(test_list))\n",
    " \n",
    "# initialising K\n",
    "K = 2\n",
    " \n",
    "res=[]\n",
    "for i in test_list:\n",
    "    x=list(map(str,i))\n",
    "    p=[]\n",
    "    for j in x:\n",
    "        p.append(len(j))\n",
    "    if(p==[K,K] or p==[K]):\n",
    "        res.append(i)\n",
    "     # printing result\n",
    "print(\"The Extracted tuples : \" + str(res))"
   ]
  },
  {
   "cell_type": "code",
   "execution_count": 4,
   "id": "ae88c26d",
   "metadata": {},
   "outputs": [
    {
     "name": "stdout",
     "output_type": "stream",
     "text": [
      "The original list is : [(54, 2), (34, 55), (222, 23), (12, 45), (78,)]\n",
      "The Extracted tuples : [(34, 55), (12, 45), (78,)]\n"
     ]
    }
   ],
   "source": [
    "# initializing list\n",
    "test_list = [(54, 2), (34, 55), (222, 23), (12, 45), (78, )]\n",
    " \n",
    "# printing original list\n",
    "print(\"The original list is : \" + str(test_list))\n",
    " \n",
    "# initializing K\n",
    "K = 2\n",
    " \n",
    "# using a for loop and string slicing to check length\n",
    "res = []\n",
    "for tup in test_list:\n",
    "    flag = True\n",
    "    for ele in tup:\n",
    "        if len(str(ele)) != K:\n",
    "            flag = False\n",
    "            break\n",
    "    if flag:\n",
    "        res.append(tup)\n",
    " # printing result\n",
    "print(\"The Extracted tuples : \" + str(res))"
   ]
  },
  {
   "cell_type": "code",
   "execution_count": 5,
   "id": "423328d8",
   "metadata": {},
   "outputs": [
    {
     "name": "stdout",
     "output_type": "stream",
     "text": [
      "The original list is : [(54, 2), (34, 55), (222, 23), (12, 45), (78,)]\n",
      "The Extracted tuples : ((34, 55), (12, 45), (78,))\n"
     ]
    }
   ],
   "source": [
    "# initializing list\n",
    "test_list = [(54, 2), (34, 55), (222, 23), (12, 45), (78, )]\n",
    " \n",
    "# printing original list\n",
    "print(\"The original list is : \" + str(test_list))\n",
    " \n",
    "# initialising K\n",
    "K = 2\n",
    " \n",
    "# Using a generator expression and tuple unpacking\n",
    "res = tuple(t for t in test_list if all(len(str(e)) == K for e in t))\n",
    " \n",
    "# printing result\n",
    "print(\"The Extracted tuples : \" + str(res))"
   ]
  },
  {
   "cell_type": "code",
   "execution_count": null,
   "id": "4c887fae",
   "metadata": {},
   "outputs": [],
   "source": []
  }
 ],
 "metadata": {
  "kernelspec": {
   "display_name": "Python 3 (ipykernel)",
   "language": "python",
   "name": "python3"
  },
  "language_info": {
   "codemirror_mode": {
    "name": "ipython",
    "version": 3
   },
   "file_extension": ".py",
   "mimetype": "text/x-python",
   "name": "python",
   "nbconvert_exporter": "python",
   "pygments_lexer": "ipython3",
   "version": "3.9.13"
  }
 },
 "nbformat": 4,
 "nbformat_minor": 5
}
